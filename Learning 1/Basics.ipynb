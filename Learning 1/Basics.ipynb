{
 "cells": [
  {
   "cell_type": "markdown",
   "id": "62ee3adb",
   "metadata": {},
   "source": [
    "<h1>Topics to cover</h1><hr>\n",
    "<ol>\n",
    "    <li>Basic arithmetic operations</li>\n",
    "    <li>Control and conditional structures</li>\n",
    "    <li>Loops</li>\n",
    "    <li>User inputs</li>\n",
    "    <li>Strings</li>\n",
    "    <li>Integers,Floating values,Type casting</li>\n",
    "</ol>"
   ]
  },
  {
   "cell_type": "markdown",
   "id": "6c5afa46",
   "metadata": {},
   "source": [
    "<h2>Basic arithmetic operations</h2>"
   ]
  },
  {
   "cell_type": "markdown",
   "id": "bb0e3662",
   "metadata": {},
   "source": [
    "2+2"
   ]
  },
  {
   "cell_type": "code",
   "execution_count": 2,
   "id": "62b7259c",
   "metadata": {},
   "outputs": [
    {
     "data": {
      "text/plain": [
       "2"
      ]
     },
     "execution_count": 2,
     "metadata": {},
     "output_type": "execute_result"
    }
   ],
   "source": [
    "4-2"
   ]
  },
  {
   "cell_type": "code",
   "execution_count": 3,
   "id": "b59fd5f4",
   "metadata": {},
   "outputs": [
    {
     "data": {
      "text/plain": [
       "4"
      ]
     },
     "execution_count": 3,
     "metadata": {},
     "output_type": "execute_result"
    }
   ],
   "source": [
    "2*2"
   ]
  },
  {
   "cell_type": "code",
   "execution_count": 4,
   "id": "1015612b",
   "metadata": {},
   "outputs": [
    {
     "data": {
      "text/plain": [
       "2.0"
      ]
     },
     "execution_count": 4,
     "metadata": {},
     "output_type": "execute_result"
    }
   ],
   "source": [
    "4/2"
   ]
  },
  {
   "cell_type": "code",
   "execution_count": 5,
   "id": "7d81a56f",
   "metadata": {},
   "outputs": [
    {
     "data": {
      "text/plain": [
       "16"
      ]
     },
     "execution_count": 5,
     "metadata": {},
     "output_type": "execute_result"
    }
   ],
   "source": [
    "4**2"
   ]
  },
  {
   "cell_type": "code",
   "execution_count": 6,
   "id": "216d00ce",
   "metadata": {},
   "outputs": [
    {
     "data": {
      "text/plain": [
       "0"
      ]
     },
     "execution_count": 6,
     "metadata": {},
     "output_type": "execute_result"
    }
   ],
   "source": [
    "16%2"
   ]
  },
  {
   "cell_type": "markdown",
   "id": "a107a221",
   "metadata": {},
   "source": [
    "<h2>Control and conditional structures</h2>"
   ]
  },
  {
   "cell_type": "code",
   "execution_count": 13,
   "id": "206ca0d6",
   "metadata": {},
   "outputs": [
    {
     "name": "stdout",
     "output_type": "stream",
     "text": [
      "a is equal to b\n"
     ]
    }
   ],
   "source": [
    "a=25\n",
    "b=25\n",
    "if a>b:\n",
    "    print(\"a is greater than b\")\n",
    "elif a==b:\n",
    "    print(\"a is equal to b\")\n",
    "else:\n",
    "    print(\"b is greater than a\")"
   ]
  },
  {
   "cell_type": "markdown",
   "id": "cf9cc042",
   "metadata": {},
   "source": [
    "<h2>Loops</h2>"
   ]
  },
  {
   "cell_type": "code",
   "execution_count": 14,
   "id": "8e43431e",
   "metadata": {},
   "outputs": [
    {
     "name": "stdout",
     "output_type": "stream",
     "text": [
      "0\n",
      "1\n",
      "2\n",
      "3\n",
      "4\n",
      "5\n",
      "6\n",
      "7\n",
      "8\n",
      "9\n"
     ]
    }
   ],
   "source": [
    "for i in range(10):\n",
    "    print(i)"
   ]
  },
  {
   "cell_type": "code",
   "execution_count": 15,
   "id": "04bec909",
   "metadata": {},
   "outputs": [
    {
     "name": "stdout",
     "output_type": "stream",
     "text": [
      "b\n",
      "a\n",
      "n\n",
      "a\n",
      "n\n",
      "a\n"
     ]
    }
   ],
   "source": [
    "for i in \"banana\":\n",
    "    print(i)"
   ]
  },
  {
   "cell_type": "code",
   "execution_count": 17,
   "id": "98fb8eef",
   "metadata": {},
   "outputs": [
    {
     "name": "stdout",
     "output_type": "stream",
     "text": [
      "banana\n",
      "apple\n",
      "mango\n"
     ]
    }
   ],
   "source": [
    "for i in [\"banana\",\"apple\",\"mango\"]:\n",
    "    print(i)"
   ]
  },
  {
   "cell_type": "code",
   "execution_count": 18,
   "id": "120ceae6",
   "metadata": {},
   "outputs": [
    {
     "name": "stdout",
     "output_type": "stream",
     "text": [
      "banana\n"
     ]
    }
   ],
   "source": [
    "for i in [\"banana\",\"apple\",\"mango\"]:\n",
    "    if i==\"apple\":\n",
    "        break\n",
    "    print(i)"
   ]
  },
  {
   "cell_type": "code",
   "execution_count": 19,
   "id": "4488de8a",
   "metadata": {},
   "outputs": [
    {
     "name": "stdout",
     "output_type": "stream",
     "text": [
      "banana\n",
      "mango\n"
     ]
    }
   ],
   "source": [
    "for i in [\"banana\",\"apple\",\"mango\"]:\n",
    "    if i==\"apple\":\n",
    "        continue\n",
    "    print(i)"
   ]
  },
  {
   "cell_type": "code",
   "execution_count": 20,
   "id": "8dc8c065",
   "metadata": {},
   "outputs": [
    {
     "name": "stdout",
     "output_type": "stream",
     "text": [
      "2\n",
      "5\n",
      "8\n",
      "11\n",
      "14\n",
      "17\n",
      "20\n",
      "23\n",
      "26\n",
      "29\n"
     ]
    }
   ],
   "source": [
    "#By default range function increment value by 1\n",
    "for x in range(2, 30, 3):\n",
    "  print(x)"
   ]
  },
  {
   "cell_type": "code",
   "execution_count": 21,
   "id": "f3bc17fa",
   "metadata": {},
   "outputs": [
    {
     "name": "stdout",
     "output_type": "stream",
     "text": [
      "1\n",
      "3\n",
      "5\n",
      "7\n",
      "9\n",
      "Loop finished\n"
     ]
    }
   ],
   "source": [
    "for i in range(1,10,2):\n",
    "    print(i)\n",
    "else:\n",
    "    print(\"Loop finished\")"
   ]
  },
  {
   "cell_type": "code",
   "execution_count": 23,
   "id": "327a09e7",
   "metadata": {},
   "outputs": [
    {
     "name": "stdout",
     "output_type": "stream",
     "text": [
      "0\n",
      "1\n",
      "2\n",
      "3\n",
      "4\n"
     ]
    }
   ],
   "source": [
    "i=0\n",
    "while(i<5):\n",
    "    print(i)\n",
    "    i+=1"
   ]
  },
  {
   "cell_type": "markdown",
   "id": "7e0c5a7a",
   "metadata": {},
   "source": [
    "<h2>User inputs</h2>"
   ]
  },
  {
   "cell_type": "code",
   "execution_count": 24,
   "id": "487c97d0",
   "metadata": {},
   "outputs": [
    {
     "name": "stdout",
     "output_type": "stream",
     "text": [
      "Enter a number24\n",
      "24\n"
     ]
    }
   ],
   "source": [
    "x=input(\"Enter a number\")\n",
    "print(x)"
   ]
  },
  {
   "cell_type": "markdown",
   "id": "85c8fdcf",
   "metadata": {},
   "source": [
    "<h2>Strings</h2>"
   ]
  },
  {
   "cell_type": "code",
   "execution_count": 25,
   "id": "9331d575",
   "metadata": {},
   "outputs": [
    {
     "name": "stdout",
     "output_type": "stream",
     "text": [
      "Hello world\n"
     ]
    }
   ],
   "source": [
    "print(\"Hello world\")"
   ]
  },
  {
   "cell_type": "code",
   "execution_count": 26,
   "id": "c253e702",
   "metadata": {},
   "outputs": [
    {
     "data": {
      "text/plain": [
       "str"
      ]
     },
     "execution_count": 26,
     "metadata": {},
     "output_type": "execute_result"
    }
   ],
   "source": [
    "type(\"Hello world\")"
   ]
  },
  {
   "cell_type": "code",
   "execution_count": 27,
   "id": "9063e7a8",
   "metadata": {},
   "outputs": [
    {
     "name": "stdout",
     "output_type": "stream",
     "text": [
      "Hello world!!!\n"
     ]
    }
   ],
   "source": [
    "string=\"Hello world!!!\"\n",
    "print(string)"
   ]
  },
  {
   "cell_type": "code",
   "execution_count": 28,
   "id": "721b9be9",
   "metadata": {},
   "outputs": [
    {
     "name": "stdout",
     "output_type": "stream",
     "text": [
      "\n",
      "Hello How are you?\n",
      "I am fine\n",
      "Welcome to python\n",
      "\n"
     ]
    }
   ],
   "source": [
    "#Multiline strings\n",
    "para=\"\"\"\n",
    "Hello How are you?\n",
    "I am fine\n",
    "Welcome to python\n",
    "\"\"\"\n",
    "print(para)"
   ]
  },
  {
   "cell_type": "code",
   "execution_count": 30,
   "id": "c6bd1c8a",
   "metadata": {},
   "outputs": [
    {
     "name": "stdout",
     "output_type": "stream",
     "text": [
      "H\n"
     ]
    }
   ],
   "source": [
    "#Strings are array\n",
    "string=\"Hello world!!!\"\n",
    "print(string[0])"
   ]
  },
  {
   "cell_type": "code",
   "execution_count": 31,
   "id": "28390f0a",
   "metadata": {},
   "outputs": [
    {
     "data": {
      "text/plain": [
       "14"
      ]
     },
     "execution_count": 31,
     "metadata": {},
     "output_type": "execute_result"
    }
   ],
   "source": [
    "string=\"Hello world!!!\"\n",
    "len(string)"
   ]
  },
  {
   "cell_type": "code",
   "execution_count": 37,
   "id": "d6fc7e7a",
   "metadata": {},
   "outputs": [
    {
     "name": "stdout",
     "output_type": "stream",
     "text": [
      "True\n"
     ]
    }
   ],
   "source": [
    "para=\"\"\"\n",
    "Hello How are you?\n",
    "I am fine\n",
    "Welcome to python\n",
    "\"\"\"\n",
    "print(\"Hello\" in para)"
   ]
  },
  {
   "cell_type": "code",
   "execution_count": 38,
   "id": "575c727d",
   "metadata": {},
   "outputs": [
    {
     "name": "stdout",
     "output_type": "stream",
     "text": [
      "False\n"
     ]
    }
   ],
   "source": [
    "para=\"\"\"\n",
    "Hello How are you?\n",
    "I am fine\n",
    "Welcome to python\n",
    "\"\"\"\n",
    "print(\"Hello\" not in para)"
   ]
  },
  {
   "cell_type": "markdown",
   "id": "ca223f85",
   "metadata": {},
   "source": [
    "<h3>String slicing</h3>"
   ]
  },
  {
   "cell_type": "code",
   "execution_count": 40,
   "id": "e9fe1e32",
   "metadata": {},
   "outputs": [
    {
     "data": {
      "text/plain": [
       "'llo '"
      ]
     },
     "execution_count": 40,
     "metadata": {},
     "output_type": "execute_result"
    }
   ],
   "source": [
    "string=\"Hello world!!!\"\n",
    "string[2:6]"
   ]
  },
  {
   "cell_type": "code",
   "execution_count": 41,
   "id": "d0383eae",
   "metadata": {},
   "outputs": [
    {
     "data": {
      "text/plain": [
       "'Hello '"
      ]
     },
     "execution_count": 41,
     "metadata": {},
     "output_type": "execute_result"
    }
   ],
   "source": [
    "#slicing from start\n",
    "string=\"Hello world!!!\"\n",
    "string[:6]"
   ]
  },
  {
   "cell_type": "code",
   "execution_count": 42,
   "id": "531e5e4b",
   "metadata": {},
   "outputs": [
    {
     "data": {
      "text/plain": [
       "'world!!!'"
      ]
     },
     "execution_count": 42,
     "metadata": {},
     "output_type": "execute_result"
    }
   ],
   "source": [
    "#slicing till end\n",
    "string=\"Hello world!!!\"\n",
    "string[6:]"
   ]
  },
  {
   "cell_type": "code",
   "execution_count": 45,
   "id": "5962f749",
   "metadata": {},
   "outputs": [
    {
     "data": {
      "text/plain": [
       "'orl'"
      ]
     },
     "execution_count": 45,
     "metadata": {},
     "output_type": "execute_result"
    }
   ],
   "source": [
    "string=\"Hello world\"\n",
    "string[-4:-1]"
   ]
  },
  {
   "cell_type": "markdown",
   "id": "2717e784",
   "metadata": {},
   "source": [
    "<h3>Modify string</h3>"
   ]
  },
  {
   "cell_type": "code",
   "execution_count": 47,
   "id": "f18b8028",
   "metadata": {},
   "outputs": [
    {
     "data": {
      "text/plain": [
       "'HELLO WORLD'"
      ]
     },
     "execution_count": 47,
     "metadata": {},
     "output_type": "execute_result"
    }
   ],
   "source": [
    "string=\"Hello world\"\n",
    "string.upper()"
   ]
  },
  {
   "cell_type": "code",
   "execution_count": 49,
   "id": "cbc605e7",
   "metadata": {},
   "outputs": [
    {
     "data": {
      "text/plain": [
       "'hello world'"
      ]
     },
     "execution_count": 49,
     "metadata": {},
     "output_type": "execute_result"
    }
   ],
   "source": [
    "string=\"Hello WORLd\"\n",
    "string.lower()"
   ]
  },
  {
   "cell_type": "code",
   "execution_count": 51,
   "id": "12127d34",
   "metadata": {},
   "outputs": [
    {
     "data": {
      "text/plain": [
       "'Hello WORLd'"
      ]
     },
     "execution_count": 51,
     "metadata": {},
     "output_type": "execute_result"
    }
   ],
   "source": [
    "#Remove whitespaces from start and end\n",
    "string=\"   Hello WORLd    \"\n",
    "string.strip()"
   ]
  },
  {
   "cell_type": "code",
   "execution_count": 54,
   "id": "57bb0bae",
   "metadata": {},
   "outputs": [
    {
     "name": "stdout",
     "output_type": "stream",
     "text": [
      "C++ is good programming language\n"
     ]
    },
    {
     "data": {
      "text/plain": [
       "'Python is good programming language'"
      ]
     },
     "execution_count": 54,
     "metadata": {},
     "output_type": "execute_result"
    }
   ],
   "source": [
    "string=\"C++ is good programming language\"\n",
    "print(string)\n",
    "string.replace(\"C++\",\"Python\")"
   ]
  },
  {
   "cell_type": "code",
   "execution_count": 56,
   "id": "51697e70",
   "metadata": {},
   "outputs": [
    {
     "data": {
      "text/plain": [
       "['C++', 'is', 'good', 'programming', 'language']"
      ]
     },
     "execution_count": 56,
     "metadata": {},
     "output_type": "execute_result"
    }
   ],
   "source": [
    "#Break string where you find whitespace\n",
    "string=\"C++ is good programming language\"\n",
    "string.split()"
   ]
  },
  {
   "cell_type": "markdown",
   "id": "6e254ef3",
   "metadata": {},
   "source": [
    "<h3>Conactenation</h3>"
   ]
  },
  {
   "cell_type": "code",
   "execution_count": 59,
   "id": "464685c0",
   "metadata": {},
   "outputs": [
    {
     "data": {
      "text/plain": [
       "'Hello---WORLD'"
      ]
     },
     "execution_count": 59,
     "metadata": {},
     "output_type": "execute_result"
    }
   ],
   "source": [
    "string1=\"Hello\"\n",
    "string2=\"WORLD\"\n",
    "\n",
    "string1+\"---\"+string2"
   ]
  },
  {
   "cell_type": "markdown",
   "id": "b9aa400e",
   "metadata": {},
   "source": [
    "<h3>Format string</h3>"
   ]
  },
  {
   "cell_type": "code",
   "execution_count": 61,
   "id": "62200779",
   "metadata": {},
   "outputs": [
    {
     "name": "stdout",
     "output_type": "stream",
     "text": [
      "My name is Ali joiya.My age is 20\n"
     ]
    }
   ],
   "source": [
    "age=20\n",
    "name=\"Ali joiya\"\n",
    "print(f\"My name is {name}.My age is {age}\")"
   ]
  },
  {
   "cell_type": "markdown",
   "id": "6f7a5277",
   "metadata": {},
   "source": [
    "<h3>Escape characters</h3>"
   ]
  },
  {
   "cell_type": "code",
   "execution_count": 67,
   "id": "dba3447e",
   "metadata": {},
   "outputs": [
    {
     "name": "stdout",
     "output_type": "stream",
     "text": [
      "I wanted to highlight \"C++\".\n"
     ]
    }
   ],
   "source": [
    "print(\"I wanted to highlight \\\"C++\\\".\")"
   ]
  },
  {
   "cell_type": "markdown",
   "id": "05885509",
   "metadata": {},
   "source": [
    "<h2>Integers,Floating values,Type casting</h2>"
   ]
  },
  {
   "cell_type": "code",
   "execution_count": 69,
   "id": "1ad9997c",
   "metadata": {},
   "outputs": [
    {
     "data": {
      "text/plain": [
       "int"
      ]
     },
     "execution_count": 69,
     "metadata": {},
     "output_type": "execute_result"
    }
   ],
   "source": [
    "num1=20\n",
    "type(num1)"
   ]
  },
  {
   "cell_type": "code",
   "execution_count": null,
   "id": "22d084bb",
   "metadata": {},
   "outputs": [],
   "source": []
  }
 ],
 "metadata": {
  "kernelspec": {
   "display_name": "Python 3",
   "language": "python",
   "name": "python3"
  },
  "language_info": {
   "codemirror_mode": {
    "name": "ipython",
    "version": 3
   },
   "file_extension": ".py",
   "mimetype": "text/x-python",
   "name": "python",
   "nbconvert_exporter": "python",
   "pygments_lexer": "ipython3",
   "version": "3.9.5"
  }
 },
 "nbformat": 4,
 "nbformat_minor": 5
}
